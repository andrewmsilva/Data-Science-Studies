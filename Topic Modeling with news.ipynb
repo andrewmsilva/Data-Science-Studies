{
  "nbformat": 4,
  "nbformat_minor": 0,
  "metadata": {
    "colab": {
      "name": "Topic Modeling with news.ipynb",
      "provenance": [],
      "collapsed_sections": [],
      "toc_visible": true,
      "authorship_tag": "ABX9TyNl+r1KAukmQMd2sBY8yTny",
      "include_colab_link": true
    },
    "kernelspec": {
      "name": "python3",
      "display_name": "Python 3"
    }
  },
  "cells": [
    {
      "cell_type": "markdown",
      "metadata": {
        "id": "view-in-github",
        "colab_type": "text"
      },
      "source": [
        "<a href=\"https://colab.research.google.com/github/andrewmsilva/DataScienceStudies/blob/master/Topic%20Modeling%20with%20news.ipynb\" target=\"_parent\"><img src=\"https://colab.research.google.com/assets/colab-badge.svg\" alt=\"Open In Colab\"/></a>"
      ]
    },
    {
      "cell_type": "markdown",
      "metadata": {
        "id": "8maBX4PMXawN",
        "colab_type": "text"
      },
      "source": [
        "## Introduction\n",
        "The purpose of this notebook is to present an example of Topic Modeling using Latent Dirichlet Distribution (LDA). The dataset used is a list of over one million news headlines published over a period of 15 years. These headlines was sourced from ABC (Australian Broadcasting Corp.) and can be downloaded from [Kaggle](https://www.kaggle.com/snapcrack/all-the-news/data).\n",
        "\n",
        "# Steps\n",
        "* [Data loading](#Data-loading)\n",
        "* [Data pre-processing](#Data-pre-processing)\n",
        "* [Features extraction](#Features-extraction)\n",
        "  * [Generate Bag of Words](#Generate-Bag-of-Words)\n",
        "  * [Generate TF-IDF](#Generate-TF-IDF)\n",
        "* [Models training](#Models-training)\n",
        "  * [With Bag of Words](#With-Bag-of-Words)\n",
        "  * [With TF-IDF](#With-TF-IDF)"
      ]
    },
    {
      "cell_type": "markdown",
      "metadata": {
        "id": "hdlPPGmNYhsk",
        "colab_type": "text"
      },
      "source": [
        "# Data loading"
      ]
    },
    {
      "cell_type": "code",
      "metadata": {
        "id": "hP0QLiFRdT3e",
        "colab_type": "code",
        "outputId": "36d1e755-a5d2-4674-f2f8-7d00bc9c470a",
        "colab": {
          "resources": {
            "http://localhost:8080/nbextensions/google.colab/files.js": {
              "data": "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",
              "ok": true,
              "headers": [
                [
                  "content-type",
                  "application/javascript"
                ]
              ],
              "status": 200,
              "status_text": ""
            }
          },
          "base_uri": "https://localhost:8080/",
          "height": 125
        }
      },
      "source": [
        "from google.colab import files\n",
        "files.upload()\n",
        "!pip install -q kaggle\n",
        "!mkdir -p ~/.kaggle\n",
        "!cp kaggle.json ~/.kaggle/\n",
        "!chmod 600 ~/.kaggle/kaggle.json\n",
        "!kaggle datasets download -d snapcrack/all-the-news"
      ],
      "execution_count": 0,
      "outputs": [
        {
          "output_type": "display_data",
          "data": {
            "text/html": [
              "\n",
              "     <input type=\"file\" id=\"files-896a1a8a-23b6-470f-a5de-36c034b026d8\" name=\"files[]\" multiple disabled />\n",
              "     <output id=\"result-896a1a8a-23b6-470f-a5de-36c034b026d8\">\n",
              "      Upload widget is only available when the cell has been executed in the\n",
              "      current browser session. Please rerun this cell to enable.\n",
              "      </output>\n",
              "      <script src=\"/nbextensions/google.colab/files.js\"></script> "
            ],
            "text/plain": [
              "<IPython.core.display.HTML object>"
            ]
          },
          "metadata": {
            "tags": []
          }
        },
        {
          "output_type": "stream",
          "text": [
            "Saving kaggle.json to kaggle.json\n",
            "Downloading all-the-news.zip to /content\n",
            " 96% 234M/244M [00:03<00:00, 98.6MB/s]\n",
            "100% 244M/244M [00:03<00:00, 75.6MB/s]\n"
          ],
          "name": "stdout"
        }
      ]
    },
    {
      "cell_type": "code",
      "metadata": {
        "id": "SU5jy5Plck4G",
        "colab_type": "code",
        "colab": {}
      },
      "source": [
        "from zipfile import ZipFile\n",
        "import pandas as pd\n",
        "\n",
        "zip_file = ZipFile('all-the-news.zip')\n",
        "dfs = [ pd.read_csv(zip_file.open(text_file.filename)) for text_file in zip_file.infolist() ]\n",
        "news_df = pd.concat(dfs, axis=0, ignore_index=True)\n",
        "news_df = news_df[['title', 'author', 'content']]"
      ],
      "execution_count": 0,
      "outputs": []
    },
    {
      "cell_type": "code",
      "metadata": {
        "id": "6LCXzwUseAV_",
        "colab_type": "code",
        "outputId": "3b475709-456d-49c3-d125-cd003ca0fccf",
        "colab": {
          "base_uri": "https://localhost:8080/",
          "height": 419
        }
      },
      "source": [
        "# Displaying\n",
        "news_df"
      ],
      "execution_count": 2,
      "outputs": [
        {
          "output_type": "execute_result",
          "data": {
            "text/html": [
              "<div>\n",
              "<style scoped>\n",
              "    .dataframe tbody tr th:only-of-type {\n",
              "        vertical-align: middle;\n",
              "    }\n",
              "\n",
              "    .dataframe tbody tr th {\n",
              "        vertical-align: top;\n",
              "    }\n",
              "\n",
              "    .dataframe thead th {\n",
              "        text-align: right;\n",
              "    }\n",
              "</style>\n",
              "<table border=\"1\" class=\"dataframe\">\n",
              "  <thead>\n",
              "    <tr style=\"text-align: right;\">\n",
              "      <th></th>\n",
              "      <th>title</th>\n",
              "      <th>author</th>\n",
              "      <th>content</th>\n",
              "    </tr>\n",
              "  </thead>\n",
              "  <tbody>\n",
              "    <tr>\n",
              "      <th>0</th>\n",
              "      <td>House Republicans Fret About Winning Their Hea...</td>\n",
              "      <td>Carl Hulse</td>\n",
              "      <td>WASHINGTON  —   Congressional Republicans have...</td>\n",
              "    </tr>\n",
              "    <tr>\n",
              "      <th>1</th>\n",
              "      <td>Rift Between Officers and Residents as Killing...</td>\n",
              "      <td>Benjamin Mueller and Al Baker</td>\n",
              "      <td>After the bullet shells get counted, the blood...</td>\n",
              "    </tr>\n",
              "    <tr>\n",
              "      <th>2</th>\n",
              "      <td>Tyrus Wong, ‘Bambi’ Artist Thwarted by Racial ...</td>\n",
              "      <td>Margalit Fox</td>\n",
              "      <td>When Walt Disney’s “Bambi” opened in 1942, cri...</td>\n",
              "    </tr>\n",
              "    <tr>\n",
              "      <th>3</th>\n",
              "      <td>Among Deaths in 2016, a Heavy Toll in Pop Musi...</td>\n",
              "      <td>William McDonald</td>\n",
              "      <td>Death may be the great equalizer, but it isn’t...</td>\n",
              "    </tr>\n",
              "    <tr>\n",
              "      <th>4</th>\n",
              "      <td>Kim Jong-un Says North Korea Is Preparing to T...</td>\n",
              "      <td>Choe Sang-Hun</td>\n",
              "      <td>SEOUL, South Korea  —   North Korea’s leader, ...</td>\n",
              "    </tr>\n",
              "    <tr>\n",
              "      <th>...</th>\n",
              "      <td>...</td>\n",
              "      <td>...</td>\n",
              "      <td>...</td>\n",
              "    </tr>\n",
              "    <tr>\n",
              "      <th>142565</th>\n",
              "      <td>An eavesdropping Uber driver saved his 16-year...</td>\n",
              "      <td>Avi Selk</td>\n",
              "      <td>Uber driver Keith Avila picked up a p...</td>\n",
              "    </tr>\n",
              "    <tr>\n",
              "      <th>142566</th>\n",
              "      <td>Plane carrying six people returning from a Cav...</td>\n",
              "      <td>Sarah Larimer</td>\n",
              "      <td>Crews on Friday continued to search L...</td>\n",
              "    </tr>\n",
              "    <tr>\n",
              "      <th>142567</th>\n",
              "      <td>After helping a fraction of homeowners expecte...</td>\n",
              "      <td>Renae Merle</td>\n",
              "      <td>When the Obama administration announced a...</td>\n",
              "    </tr>\n",
              "    <tr>\n",
              "      <th>142568</th>\n",
              "      <td>Yes, this is real: Michigan just banned bannin...</td>\n",
              "      <td>Chelsea Harvey</td>\n",
              "      <td>This story has been updated. A new law in...</td>\n",
              "    </tr>\n",
              "    <tr>\n",
              "      <th>142569</th>\n",
              "      <td>What happened in Washington state after voters...</td>\n",
              "      <td>Christopher Ingraham</td>\n",
              "      <td>The nation’s first recreational marijuana...</td>\n",
              "    </tr>\n",
              "  </tbody>\n",
              "</table>\n",
              "<p>142570 rows × 3 columns</p>\n",
              "</div>"
            ],
            "text/plain": [
              "                                                    title  ...                                            content\n",
              "0       House Republicans Fret About Winning Their Hea...  ...  WASHINGTON  —   Congressional Republicans have...\n",
              "1       Rift Between Officers and Residents as Killing...  ...  After the bullet shells get counted, the blood...\n",
              "2       Tyrus Wong, ‘Bambi’ Artist Thwarted by Racial ...  ...  When Walt Disney’s “Bambi” opened in 1942, cri...\n",
              "3       Among Deaths in 2016, a Heavy Toll in Pop Musi...  ...  Death may be the great equalizer, but it isn’t...\n",
              "4       Kim Jong-un Says North Korea Is Preparing to T...  ...  SEOUL, South Korea  —   North Korea’s leader, ...\n",
              "...                                                   ...  ...                                                ...\n",
              "142565  An eavesdropping Uber driver saved his 16-year...  ...           Uber driver Keith Avila picked up a p...\n",
              "142566  Plane carrying six people returning from a Cav...  ...           Crews on Friday continued to search L...\n",
              "142567  After helping a fraction of homeowners expecte...  ...       When the Obama administration announced a...\n",
              "142568  Yes, this is real: Michigan just banned bannin...  ...       This story has been updated. A new law in...\n",
              "142569  What happened in Washington state after voters...  ...       The nation’s first recreational marijuana...\n",
              "\n",
              "[142570 rows x 3 columns]"
            ]
          },
          "metadata": {
            "tags": []
          },
          "execution_count": 2
        }
      ]
    },
    {
      "cell_type": "markdown",
      "metadata": {
        "id": "QI9dFL1JeV5P",
        "colab_type": "text"
      },
      "source": [
        "# Data pre-processing"
      ]
    },
    {
      "cell_type": "code",
      "metadata": {
        "id": "ffnDKB4leZNV",
        "colab_type": "code",
        "colab": {}
      },
      "source": [
        "import numpy as np\n",
        "np.random.seed(59)\n",
        "\n",
        "import gensim\n",
        "from gensim.utils import simple_preprocess\n",
        "from gensim.parsing.preprocessing import STOPWORDS\n",
        "\n",
        "import nltk\n",
        "#nltk.download('stopwords')\n",
        "#nltk.download('wordnet')\n",
        "\n",
        "def preprocess(text):\n",
        "  stemmer = nltk.SnowballStemmer('english')\n",
        "  lemmatizer = nltk.WordNetLemmatizer()\n",
        "\n",
        "  processed_text = []\n",
        "  for token in gensim.utils.simple_preprocess(text):\n",
        "    if token not in gensim.parsing.preprocessing.STOPWORDS and len(token) > 3:\n",
        "      token = stemmer.stem(lemmatizer.lemmatize(token, pos='v'))\n",
        "      processed_text.append(token)\n",
        "  return processed_text\n",
        "\n",
        "processed = news_df.content.map(preprocess)\n",
        "news_df['processed'] = processed"
      ],
      "execution_count": 0,
      "outputs": []
    },
    {
      "cell_type": "code",
      "metadata": {
        "id": "9mdEioJifLj_",
        "colab_type": "code",
        "outputId": "3aaf4fb5-d043-4a85-f77c-b9cc63d6ccd4",
        "colab": {
          "base_uri": "https://localhost:8080/",
          "height": 453
        }
      },
      "source": [
        "# Displaying\n",
        "news_df"
      ],
      "execution_count": 4,
      "outputs": [
        {
          "output_type": "execute_result",
          "data": {
            "text/html": [
              "<div>\n",
              "<style scoped>\n",
              "    .dataframe tbody tr th:only-of-type {\n",
              "        vertical-align: middle;\n",
              "    }\n",
              "\n",
              "    .dataframe tbody tr th {\n",
              "        vertical-align: top;\n",
              "    }\n",
              "\n",
              "    .dataframe thead th {\n",
              "        text-align: right;\n",
              "    }\n",
              "</style>\n",
              "<table border=\"1\" class=\"dataframe\">\n",
              "  <thead>\n",
              "    <tr style=\"text-align: right;\">\n",
              "      <th></th>\n",
              "      <th>title</th>\n",
              "      <th>author</th>\n",
              "      <th>content</th>\n",
              "      <th>processed</th>\n",
              "    </tr>\n",
              "  </thead>\n",
              "  <tbody>\n",
              "    <tr>\n",
              "      <th>0</th>\n",
              "      <td>House Republicans Fret About Winning Their Hea...</td>\n",
              "      <td>Carl Hulse</td>\n",
              "      <td>WASHINGTON  —   Congressional Republicans have...</td>\n",
              "      <td>[washington, congression, republican, fear, co...</td>\n",
              "    </tr>\n",
              "    <tr>\n",
              "      <th>1</th>\n",
              "      <td>Rift Between Officers and Residents as Killing...</td>\n",
              "      <td>Benjamin Mueller and Al Baker</td>\n",
              "      <td>After the bullet shells get counted, the blood...</td>\n",
              "      <td>[bullet, shell, count, blood, dri, votiv, cand...</td>\n",
              "    </tr>\n",
              "    <tr>\n",
              "      <th>2</th>\n",
              "      <td>Tyrus Wong, ‘Bambi’ Artist Thwarted by Racial ...</td>\n",
              "      <td>Margalit Fox</td>\n",
              "      <td>When Walt Disney’s “Bambi” opened in 1942, cri...</td>\n",
              "      <td>[walt, disney, bambi, open, critic, prais, spa...</td>\n",
              "    </tr>\n",
              "    <tr>\n",
              "      <th>3</th>\n",
              "      <td>Among Deaths in 2016, a Heavy Toll in Pop Musi...</td>\n",
              "      <td>William McDonald</td>\n",
              "      <td>Death may be the great equalizer, but it isn’t...</td>\n",
              "      <td>[death, great, equal, necessarili, evenhand, f...</td>\n",
              "    </tr>\n",
              "    <tr>\n",
              "      <th>4</th>\n",
              "      <td>Kim Jong-un Says North Korea Is Preparing to T...</td>\n",
              "      <td>Choe Sang-Hun</td>\n",
              "      <td>SEOUL, South Korea  —   North Korea’s leader, ...</td>\n",
              "      <td>[seoul, south, korea, north, korea, leader, sa...</td>\n",
              "    </tr>\n",
              "    <tr>\n",
              "      <th>...</th>\n",
              "      <td>...</td>\n",
              "      <td>...</td>\n",
              "      <td>...</td>\n",
              "      <td>...</td>\n",
              "    </tr>\n",
              "    <tr>\n",
              "      <th>142565</th>\n",
              "      <td>An eavesdropping Uber driver saved his 16-year...</td>\n",
              "      <td>Avi Selk</td>\n",
              "      <td>Uber driver Keith Avila picked up a p...</td>\n",
              "      <td>[uber, driver, keith, avila, pick, passeng, lo...</td>\n",
              "    </tr>\n",
              "    <tr>\n",
              "      <th>142566</th>\n",
              "      <td>Plane carrying six people returning from a Cav...</td>\n",
              "      <td>Sarah Larimer</td>\n",
              "      <td>Crews on Friday continued to search L...</td>\n",
              "      <td>[crew, friday, continu, search, lake, eri, pla...</td>\n",
              "    </tr>\n",
              "    <tr>\n",
              "      <th>142567</th>\n",
              "      <td>After helping a fraction of homeowners expecte...</td>\n",
              "      <td>Renae Merle</td>\n",
              "      <td>When the Obama administration announced a...</td>\n",
              "      <td>[obama, administr, announc, massiv, effort, he...</td>\n",
              "    </tr>\n",
              "    <tr>\n",
              "      <th>142568</th>\n",
              "      <td>Yes, this is real: Michigan just banned bannin...</td>\n",
              "      <td>Chelsea Harvey</td>\n",
              "      <td>This story has been updated. A new law in...</td>\n",
              "      <td>[stori, updat, michigan, prohibit, local, gove...</td>\n",
              "    </tr>\n",
              "    <tr>\n",
              "      <th>142569</th>\n",
              "      <td>What happened in Washington state after voters...</td>\n",
              "      <td>Christopher Ingraham</td>\n",
              "      <td>The nation’s first recreational marijuana...</td>\n",
              "      <td>[nation, recreat, marijuana, shop, open, near,...</td>\n",
              "    </tr>\n",
              "  </tbody>\n",
              "</table>\n",
              "<p>142570 rows × 4 columns</p>\n",
              "</div>"
            ],
            "text/plain": [
              "                                                    title  ...                                          processed\n",
              "0       House Republicans Fret About Winning Their Hea...  ...  [washington, congression, republican, fear, co...\n",
              "1       Rift Between Officers and Residents as Killing...  ...  [bullet, shell, count, blood, dri, votiv, cand...\n",
              "2       Tyrus Wong, ‘Bambi’ Artist Thwarted by Racial ...  ...  [walt, disney, bambi, open, critic, prais, spa...\n",
              "3       Among Deaths in 2016, a Heavy Toll in Pop Musi...  ...  [death, great, equal, necessarili, evenhand, f...\n",
              "4       Kim Jong-un Says North Korea Is Preparing to T...  ...  [seoul, south, korea, north, korea, leader, sa...\n",
              "...                                                   ...  ...                                                ...\n",
              "142565  An eavesdropping Uber driver saved his 16-year...  ...  [uber, driver, keith, avila, pick, passeng, lo...\n",
              "142566  Plane carrying six people returning from a Cav...  ...  [crew, friday, continu, search, lake, eri, pla...\n",
              "142567  After helping a fraction of homeowners expecte...  ...  [obama, administr, announc, massiv, effort, he...\n",
              "142568  Yes, this is real: Michigan just banned bannin...  ...  [stori, updat, michigan, prohibit, local, gove...\n",
              "142569  What happened in Washington state after voters...  ...  [nation, recreat, marijuana, shop, open, near,...\n",
              "\n",
              "[142570 rows x 4 columns]"
            ]
          },
          "metadata": {
            "tags": []
          },
          "execution_count": 4
        }
      ]
    },
    {
      "cell_type": "markdown",
      "metadata": {
        "id": "ANnKySTFgXDd",
        "colab_type": "text"
      },
      "source": [
        "# Features extraction"
      ]
    },
    {
      "cell_type": "markdown",
      "metadata": {
        "id": "vYrAzZ6pgblt",
        "colab_type": "text"
      },
      "source": [
        "## Generate Bag of Words"
      ]
    },
    {
      "cell_type": "code",
      "metadata": {
        "id": "MClXu4zrgfc6",
        "colab_type": "code",
        "colab": {}
      },
      "source": [
        "dictionary = gensim.corpora.Dictionary(processed)\n",
        "dictionary.filter_extremes(no_below=15, no_above=0.5, keep_n=100000)\n",
        "bow_corpus = [dictionary.doc2bow(doc) for doc in processed]"
      ],
      "execution_count": 0,
      "outputs": []
    },
    {
      "cell_type": "markdown",
      "metadata": {
        "id": "mFx6tMRFg2ec",
        "colab_type": "text"
      },
      "source": [
        "## Generate TF-IF"
      ]
    },
    {
      "cell_type": "code",
      "metadata": {
        "id": "nMR74ADChBEV",
        "colab_type": "code",
        "colab": {}
      },
      "source": [
        "from gensim import corpora, models\n",
        "\n",
        "tfidf = models.TfidfModel(bow_corpus)\n",
        "tfidf_corpus = tfidf[bow_corpus]"
      ],
      "execution_count": 0,
      "outputs": []
    },
    {
      "cell_type": "markdown",
      "metadata": {
        "id": "tEUUzOHHhWbt",
        "colab_type": "text"
      },
      "source": [
        "# Models training"
      ]
    },
    {
      "cell_type": "markdown",
      "metadata": {
        "id": "jsw6UN4nhhDT",
        "colab_type": "text"
      },
      "source": [
        "## With Bag of Words"
      ]
    },
    {
      "cell_type": "code",
      "metadata": {
        "id": "PV9sm5CXheIk",
        "colab_type": "code",
        "colab": {}
      },
      "source": [
        "lda_model_bow = gensim.models.LdaMulticore(\n",
        "    bow_corpus,\n",
        "    num_topics=20,\n",
        "    id2word=dictionary,\n",
        "    workers=2\n",
        ")"
      ],
      "execution_count": 0,
      "outputs": []
    },
    {
      "cell_type": "code",
      "metadata": {
        "id": "yR8Ueko7hrTE",
        "colab_type": "code",
        "outputId": "da59bda7-cea9-40ff-9ec3-3ae2501f2f31",
        "colab": {
          "base_uri": "https://localhost:8080/",
          "height": 717
        }
      },
      "source": [
        "# Displaying\n",
        "for idx, topic in lda_model_bow.print_topics(-1):\n",
        "    print('Topic {}: {}\\n'.format(idx, topic))"
      ],
      "execution_count": 8,
      "outputs": [
        {
          "output_type": "stream",
          "text": [
            "Topic 0: 0.100*\"trump\" + 0.020*\"clinton\" + 0.015*\"campaign\" + 0.014*\"donald\" + 0.010*\"presid\" + 0.007*\"immigr\" + 0.007*\"presidenti\" + 0.006*\"hillari\" + 0.006*\"state\" + 0.006*\"candid\"\n",
            "\n",
            "Topic 1: 0.008*\"facebook\" + 0.006*\"post\" + 0.006*\"compani\" + 0.006*\"appl\" + 0.005*\"user\" + 0.005*\"video\" + 0.005*\"internet\" + 0.005*\"stori\" + 0.004*\"work\" + 0.004*\"googl\"\n",
            "\n",
            "Topic 2: 0.007*\"food\" + 0.005*\"go\" + 0.005*\"work\" + 0.005*\"come\" + 0.005*\"look\" + 0.004*\"know\" + 0.004*\"home\" + 0.004*\"think\" + 0.004*\"citi\" + 0.004*\"want\"\n",
            "\n",
            "Topic 3: 0.007*\"know\" + 0.006*\"think\" + 0.005*\"tell\" + 0.005*\"famili\" + 0.005*\"life\" + 0.005*\"go\" + 0.005*\"want\" + 0.005*\"love\" + 0.005*\"film\" + 0.005*\"stori\"\n",
            "\n",
            "Topic 4: 0.023*\"court\" + 0.015*\"case\" + 0.010*\"judg\" + 0.009*\"feder\" + 0.009*\"state\" + 0.008*\"attorney\" + 0.007*\"justic\" + 0.007*\"charg\" + 0.007*\"prison\" + 0.007*\"sentenc\"\n",
            "\n",
            "Topic 5: 0.017*\"china\" + 0.013*\"north\" + 0.010*\"korea\" + 0.008*\"south\" + 0.006*\"chines\" + 0.006*\"nuclear\" + 0.005*\"state\" + 0.005*\"water\" + 0.005*\"missil\" + 0.004*\"land\"\n",
            "\n",
            "Topic 6: 0.025*\"republican\" + 0.020*\"trump\" + 0.019*\"democrat\" + 0.017*\"vote\" + 0.013*\"parti\" + 0.011*\"state\" + 0.011*\"senat\" + 0.010*\"elect\" + 0.009*\"sander\" + 0.009*\"voter\"\n",
            "\n",
            "Topic 7: 0.021*\"women\" + 0.018*\"game\" + 0.012*\"team\" + 0.011*\"play\" + 0.009*\"season\" + 0.008*\"player\" + 0.006*\"go\" + 0.005*\"clinton\" + 0.005*\"sport\" + 0.005*\"point\"\n",
            "\n",
            "Topic 8: 0.008*\"climat\" + 0.008*\"research\" + 0.008*\"chang\" + 0.007*\"studi\" + 0.007*\"energi\" + 0.006*\"world\" + 0.006*\"scientist\" + 0.006*\"scienc\" + 0.004*\"human\" + 0.004*\"global\"\n",
            "\n",
            "Topic 9: 0.012*\"plan\" + 0.012*\"state\" + 0.011*\"govern\" + 0.011*\"health\" + 0.010*\"administr\" + 0.009*\"presid\" + 0.009*\"insur\" + 0.009*\"hous\" + 0.008*\"feder\" + 0.008*\"care\"\n",
            "\n",
            "Topic 10: 0.009*\"countri\" + 0.008*\"minist\" + 0.008*\"state\" + 0.007*\"unit\" + 0.007*\"govern\" + 0.007*\"european\" + 0.006*\"presid\" + 0.006*\"leader\" + 0.006*\"israel\" + 0.006*\"polit\"\n",
            "\n",
            "Topic 11: 0.029*\"polic\" + 0.015*\"offic\" + 0.013*\"shoot\" + 0.012*\"attack\" + 0.011*\"report\" + 0.010*\"kill\" + 0.008*\"tell\" + 0.007*\"citi\" + 0.006*\"investig\" + 0.005*\"accord\"\n",
            "\n",
            "Topic 12: 0.021*\"trump\" + 0.014*\"presid\" + 0.010*\"investig\" + 0.010*\"hous\" + 0.010*\"russia\" + 0.010*\"russian\" + 0.010*\"report\" + 0.009*\"offici\" + 0.008*\"intellig\" + 0.008*\"clinton\"\n",
            "\n",
            "Topic 13: 0.016*\"trump\" + 0.014*\"presid\" + 0.012*\"black\" + 0.011*\"obama\" + 0.009*\"white\" + 0.009*\"american\" + 0.007*\"polit\" + 0.007*\"think\" + 0.006*\"america\" + 0.006*\"know\"\n",
            "\n",
            "Topic 14: 0.016*\"state\" + 0.011*\"syria\" + 0.011*\"forc\" + 0.010*\"islam\" + 0.010*\"militari\" + 0.008*\"syrian\" + 0.008*\"unit\" + 0.007*\"govern\" + 0.007*\"group\" + 0.007*\"attack\"\n",
            "\n",
            "Topic 15: 0.022*\"student\" + 0.021*\"school\" + 0.012*\"univers\" + 0.009*\"colleg\" + 0.006*\"church\" + 0.005*\"educ\" + 0.005*\"state\" + 0.005*\"right\" + 0.004*\"campus\" + 0.004*\"public\"\n",
            "\n",
            "Topic 16: 0.021*\"compani\" + 0.010*\"market\" + 0.010*\"busi\" + 0.009*\"billion\" + 0.008*\"million\" + 0.007*\"trade\" + 0.007*\"percent\" + 0.006*\"deal\" + 0.006*\"price\" + 0.006*\"report\"\n",
            "\n",
            "Topic 17: 0.040*\"percent\" + 0.011*\"state\" + 0.008*\"bank\" + 0.007*\"rat\" + 0.007*\"data\" + 0.007*\"increas\" + 0.006*\"rate\" + 0.005*\"poll\" + 0.005*\"point\" + 0.005*\"american\"\n",
            "\n",
            "Topic 18: 0.010*\"polit\" + 0.010*\"trump\" + 0.008*\"american\" + 0.007*\"right\" + 0.006*\"news\" + 0.006*\"conserv\" + 0.006*\"court\" + 0.006*\"white\" + 0.005*\"media\" + 0.005*\"write\"\n",
            "\n",
            "Topic 19: 0.011*\"health\" + 0.009*\"drug\" + 0.009*\"medic\" + 0.007*\"patient\" + 0.007*\"doctor\" + 0.007*\"diseas\" + 0.007*\"hospit\" + 0.005*\"report\" + 0.005*\"zika\" + 0.005*\"water\"\n",
            "\n"
          ],
          "name": "stdout"
        }
      ]
    },
    {
      "cell_type": "markdown",
      "metadata": {
        "id": "TnHC2nxchtsc",
        "colab_type": "text"
      },
      "source": [
        "## With TF-IDF"
      ]
    },
    {
      "cell_type": "code",
      "metadata": {
        "id": "cBkSWGHkhv-7",
        "colab_type": "code",
        "colab": {}
      },
      "source": [
        "lda_model_tfidf = gensim.models.LdaMulticore(\n",
        "    tfidf_corpus,\n",
        "    id2word=dictionary,\n",
        "    num_topics=20,\n",
        "    workers=2\n",
        ")"
      ],
      "execution_count": 0,
      "outputs": []
    },
    {
      "cell_type": "code",
      "metadata": {
        "id": "EHa__-vNh2M7",
        "colab_type": "code",
        "colab": {
          "base_uri": "https://localhost:8080/",
          "height": 717
        },
        "outputId": "c88da887-69a1-44c8-f0c9-ea4d15f2e4ad"
      },
      "source": [
        "# Displaying\n",
        "for idx, topic in lda_model_tfidf.print_topics(-1):\n",
        "    print('Topic {}: {}\\n'.format(idx, topic))"
      ],
      "execution_count": 10,
      "outputs": [
        {
          "output_type": "stream",
          "text": [
            "Topic 0: 0.016*\"brazil\" + 0.015*\"olymp\" + 0.014*\"pipelin\" + 0.010*\"rousseff\" + 0.010*\"brazilian\" + 0.010*\"temer\" + 0.008*\"cooney\" + 0.007*\"dakota\" + 0.007*\"tribe\" + 0.006*\"reai\"\n",
            "\n",
            "Topic 1: 0.003*\"women\" + 0.002*\"film\" + 0.002*\"music\" + 0.002*\"love\" + 0.002*\"book\" + 0.002*\"feel\" + 0.002*\"stori\" + 0.002*\"life\" + 0.002*\"movi\" + 0.002*\"think\"\n",
            "\n",
            "Topic 2: 0.010*\"attack\" + 0.010*\"polic\" + 0.008*\"mosul\" + 0.007*\"kill\" + 0.006*\"iraqi\" + 0.006*\"islam\" + 0.006*\"bomb\" + 0.006*\"shoot\" + 0.006*\"milit\" + 0.005*\"citi\"\n",
            "\n",
            "Topic 3: 0.009*\"comey\" + 0.009*\"trump\" + 0.007*\"russia\" + 0.007*\"russian\" + 0.007*\"intellig\" + 0.006*\"investig\" + 0.006*\"clinton\" + 0.006*\"email\" + 0.005*\"flynn\" + 0.005*\"committe\"\n",
            "\n",
            "Topic 4: 0.014*\"ceasefir\" + 0.011*\"nypd\" + 0.009*\"kaepernick\" + 0.006*\"nhtsa\" + 0.006*\"bowser\" + 0.005*\"farag\" + 0.005*\"solarc\" + 0.004*\"anthem\" + 0.004*\"mcginti\" + 0.003*\"francoi\"\n",
            "\n",
            "Topic 5: 0.011*\"ail\" + 0.010*\"reilli\" + 0.005*\"kelli\" + 0.005*\"sander\" + 0.005*\"deutsch\" + 0.005*\"carlson\" + 0.004*\"murdoch\" + 0.004*\"lewandowski\" + 0.004*\"news\" + 0.004*\"mnuchin\"\n",
            "\n",
            "Topic 6: 0.017*\"game\" + 0.012*\"player\" + 0.010*\"team\" + 0.010*\"season\" + 0.009*\"leagu\" + 0.008*\"coach\" + 0.007*\"footbal\" + 0.006*\"play\" + 0.006*\"yanke\" + 0.006*\"met\"\n",
            "\n",
            "Topic 7: 0.038*\"abort\" + 0.026*\"milbank\" + 0.022*\"dutert\" + 0.014*\"parenthood\" + 0.010*\"philippin\" + 0.007*\"clinic\" + 0.007*\"colbert\" + 0.006*\"guzmán\" + 0.006*\"pregnanc\" + 0.005*\"abdeslam\"\n",
            "\n",
            "Topic 8: 0.008*\"percent\" + 0.007*\"compani\" + 0.006*\"billion\" + 0.005*\"bank\" + 0.005*\"market\" + 0.004*\"price\" + 0.004*\"investor\" + 0.003*\"stock\" + 0.003*\"growth\" + 0.003*\"invest\"\n",
            "\n",
            "Topic 9: 0.006*\"syria\" + 0.004*\"syrian\" + 0.004*\"islam\" + 0.004*\"russia\" + 0.004*\"iran\" + 0.004*\"minist\" + 0.004*\"militari\" + 0.003*\"unit\" + 0.003*\"european\" + 0.003*\"russian\"\n",
            "\n",
            "Topic 10: 0.014*\"appl\" + 0.009*\"user\" + 0.009*\"googl\" + 0.008*\"iphon\" + 0.007*\"facebook\" + 0.006*\"internet\" + 0.006*\"compani\" + 0.006*\"shkreli\" + 0.005*\"devic\" + 0.005*\"softwar\"\n",
            "\n",
            "Topic 11: 0.014*\"lgbtq\" + 0.013*\"puerto\" + 0.011*\"rico\" + 0.009*\"gawker\" + 0.007*\"hogan\" + 0.006*\"wilder\" + 0.006*\"takata\" + 0.005*\"jammeh\" + 0.005*\"creditor\" + 0.005*\"neighbour\"\n",
            "\n",
            "Topic 12: 0.017*\"insur\" + 0.014*\"health\" + 0.012*\"obamacar\" + 0.009*\"medicaid\" + 0.009*\"care\" + 0.008*\"repeal\" + 0.007*\"budget\" + 0.006*\"plan\" + 0.006*\"coverag\" + 0.006*\"republican\"\n",
            "\n",
            "Topic 13: 0.006*\"food\" + 0.004*\"research\" + 0.004*\"studi\" + 0.003*\"scientist\" + 0.003*\"cancer\" + 0.003*\"scienc\" + 0.002*\"anim\" + 0.002*\"brain\" + 0.002*\"diseas\" + 0.002*\"health\"\n",
            "\n",
            "Topic 14: 0.020*\"zika\" + 0.014*\"virus\" + 0.010*\"diseas\" + 0.010*\"mosquito\" + 0.010*\"infect\" + 0.009*\"vaccin\" + 0.008*\"health\" + 0.008*\"patient\" + 0.008*\"doctor\" + 0.007*\"cosbi\"\n",
            "\n",
            "Topic 15: 0.008*\"korea\" + 0.007*\"north\" + 0.005*\"china\" + 0.004*\"korean\" + 0.004*\"flight\" + 0.004*\"missil\" + 0.004*\"airlin\" + 0.004*\"water\" + 0.003*\"south\" + 0.003*\"nuclear\"\n",
            "\n",
            "Topic 16: 0.029*\"student\" + 0.025*\"school\" + 0.013*\"educ\" + 0.011*\"transgend\" + 0.011*\"teacher\" + 0.009*\"colleg\" + 0.008*\"devo\" + 0.008*\"bathroom\" + 0.008*\"pope\" + 0.006*\"campus\"\n",
            "\n",
            "Topic 17: 0.016*\"court\" + 0.007*\"suprem\" + 0.006*\"justic\" + 0.006*\"judg\" + 0.006*\"immigr\" + 0.006*\"order\" + 0.005*\"rule\" + 0.004*\"feder\" + 0.004*\"trump\" + 0.004*\"legal\"\n",
            "\n",
            "Topic 18: 0.011*\"trump\" + 0.006*\"clinton\" + 0.005*\"republican\" + 0.004*\"democrat\" + 0.003*\"vote\" + 0.003*\"campaign\" + 0.003*\"sander\" + 0.003*\"voter\" + 0.003*\"elect\" + 0.003*\"obama\"\n",
            "\n",
            "Topic 19: 0.009*\"polic\" + 0.004*\"shoot\" + 0.004*\"offic\" + 0.003*\"crime\" + 0.003*\"prison\" + 0.003*\"charg\" + 0.003*\"arrest\" + 0.003*\"protest\" + 0.003*\"black\" + 0.003*\"court\"\n",
            "\n"
          ],
          "name": "stdout"
        }
      ]
    }
  ]
}