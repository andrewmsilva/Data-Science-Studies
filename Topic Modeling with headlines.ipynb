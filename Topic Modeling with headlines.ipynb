{
  "nbformat": 4,
  "nbformat_minor": 0,
  "metadata": {
    "colab": {
      "name": "Topic Modeling with headlines.ipynb",
      "provenance": [],
      "collapsed_sections": [],
      "toc_visible": true,
      "authorship_tag": "ABX9TyOrAM2b57/8S6j9Xl3TK2bg",
      "include_colab_link": true
    },
    "kernelspec": {
      "name": "python3",
      "display_name": "Python 3"
    }
  },
  "cells": [
    {
      "cell_type": "markdown",
      "metadata": {
        "id": "view-in-github",
        "colab_type": "text"
      },
      "source": [
        "<a href=\"https://colab.research.google.com/github/andrewmsilva/DataScienceStudies/blob/master/Topic%20Modeling%20with%20headlines.ipynb\" target=\"_parent\"><img src=\"https://colab.research.google.com/assets/colab-badge.svg\" alt=\"Open In Colab\"/></a>"
      ]
    },
    {
      "cell_type": "markdown",
      "metadata": {
        "id": "8maBX4PMXawN",
        "colab_type": "text"
      },
      "source": [
        "## Introduction\n",
        "The purpose of this notebook is to present an example of Topic Modeling usins Latent Dirichlet Distribution (LDA). The dataset used is a list of over one million news headlines published over a period of 15 years. These headlines was sourced from ABC (Australian Broadcasting Corp.) and can be downloaded from [Kaggle](https://www.kaggle.com/therohk/million-headlines/data).\n",
        "\n",
        "# Steps\n",
        "* [Data loading](#Data-loading)\n",
        "* [Data pre-processing](#Data-pre-processing)\n",
        "* [Features extraction](#Features-extraction)\n",
        "  * [Generate Bag of Words](#Generate-Bag-of-Words)\n",
        "  * [Generate TF-IDF](#Generate-TF-IDF)\n",
        "* [Models training](#Models-training)\n",
        "  * [With Bag of Words](#With-Bag-of-Words)\n",
        "  * [With TF-IDF](#With-TF-IDF)"
      ]
    },
    {
      "cell_type": "markdown",
      "metadata": {
        "id": "hdlPPGmNYhsk",
        "colab_type": "text"
      },
      "source": [
        "# Data loading"
      ]
    },
    {
      "cell_type": "code",
      "metadata": {
        "id": "hP0QLiFRdT3e",
        "colab_type": "code",
        "colab": {
          "resources": {
            "http://localhost:8080/nbextensions/google.colab/files.js": {
              "data": "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",
              "ok": true,
              "headers": [
                [
                  "content-type",
                  "application/javascript"
                ]
              ],
              "status": 200,
              "status_text": ""
            }
          },
          "base_uri": "https://localhost:8080/",
          "height": 125
        },
        "outputId": "25d91d57-9fdd-4b14-bad0-3044a21d46d9"
      },
      "source": [
        "from google.colab import files\n",
        "files.upload()\n",
        "!pip install -q kaggle\n",
        "!mkdir -p ~/.kaggle\n",
        "!cp kaggle.json ~/.kaggle/\n",
        "!chmod 600 ~/.kaggle/kaggle.json\n",
        "!kaggle datasets download -d therohk/million-headlines"
      ],
      "execution_count": 5,
      "outputs": [
        {
          "output_type": "display_data",
          "data": {
            "text/html": [
              "\n",
              "     <input type=\"file\" id=\"files-acbf7cf1-49d7-4850-8efe-21fcc3fded70\" name=\"files[]\" multiple disabled />\n",
              "     <output id=\"result-acbf7cf1-49d7-4850-8efe-21fcc3fded70\">\n",
              "      Upload widget is only available when the cell has been executed in the\n",
              "      current browser session. Please rerun this cell to enable.\n",
              "      </output>\n",
              "      <script src=\"/nbextensions/google.colab/files.js\"></script> "
            ],
            "text/plain": [
              "<IPython.core.display.HTML object>"
            ]
          },
          "metadata": {
            "tags": []
          }
        },
        {
          "output_type": "stream",
          "text": [
            "Saving kaggle.json to kaggle.json\n",
            "Downloading million-headlines.zip to /content\n",
            " 89% 18.0M/20.2M [00:00<00:00, 80.1MB/s]\n",
            "100% 20.2M/20.2M [00:00<00:00, 99.2MB/s]\n"
          ],
          "name": "stdout"
        }
      ]
    },
    {
      "cell_type": "code",
      "metadata": {
        "id": "SU5jy5Plck4G",
        "colab_type": "code",
        "colab": {}
      },
      "source": [
        "import pandas as pd\n",
        "\n",
        "headlines_df = pd.read_csv('million-headlines.zip', compression='zip', header=0, sep=',', quotechar='\"')"
      ],
      "execution_count": 0,
      "outputs": []
    },
    {
      "cell_type": "code",
      "metadata": {
        "id": "6LCXzwUseAV_",
        "colab_type": "code",
        "colab": {
          "base_uri": "https://localhost:8080/",
          "height": 419
        },
        "outputId": "1aef9ed5-ea7a-4a19-e616-58ea9d6c7ce6"
      },
      "source": [
        "# Displaying\n",
        "headlines_df"
      ],
      "execution_count": 7,
      "outputs": [
        {
          "output_type": "execute_result",
          "data": {
            "text/html": [
              "<div>\n",
              "<style scoped>\n",
              "    .dataframe tbody tr th:only-of-type {\n",
              "        vertical-align: middle;\n",
              "    }\n",
              "\n",
              "    .dataframe tbody tr th {\n",
              "        vertical-align: top;\n",
              "    }\n",
              "\n",
              "    .dataframe thead th {\n",
              "        text-align: right;\n",
              "    }\n",
              "</style>\n",
              "<table border=\"1\" class=\"dataframe\">\n",
              "  <thead>\n",
              "    <tr style=\"text-align: right;\">\n",
              "      <th></th>\n",
              "      <th>publish_date</th>\n",
              "      <th>headline_text</th>\n",
              "    </tr>\n",
              "  </thead>\n",
              "  <tbody>\n",
              "    <tr>\n",
              "      <th>0</th>\n",
              "      <td>20030219</td>\n",
              "      <td>aba decides against community broadcasting lic...</td>\n",
              "    </tr>\n",
              "    <tr>\n",
              "      <th>1</th>\n",
              "      <td>20030219</td>\n",
              "      <td>act fire witnesses must be aware of defamation</td>\n",
              "    </tr>\n",
              "    <tr>\n",
              "      <th>2</th>\n",
              "      <td>20030219</td>\n",
              "      <td>a g calls for infrastructure protection summit</td>\n",
              "    </tr>\n",
              "    <tr>\n",
              "      <th>3</th>\n",
              "      <td>20030219</td>\n",
              "      <td>air nz staff in aust strike for pay rise</td>\n",
              "    </tr>\n",
              "    <tr>\n",
              "      <th>4</th>\n",
              "      <td>20030219</td>\n",
              "      <td>air nz strike to affect australian travellers</td>\n",
              "    </tr>\n",
              "    <tr>\n",
              "      <th>...</th>\n",
              "      <td>...</td>\n",
              "      <td>...</td>\n",
              "    </tr>\n",
              "    <tr>\n",
              "      <th>1186013</th>\n",
              "      <td>20191231</td>\n",
              "      <td>vision of flames approaching corryong in victoria</td>\n",
              "    </tr>\n",
              "    <tr>\n",
              "      <th>1186014</th>\n",
              "      <td>20191231</td>\n",
              "      <td>wa police and government backflip on drug amne...</td>\n",
              "    </tr>\n",
              "    <tr>\n",
              "      <th>1186015</th>\n",
              "      <td>20191231</td>\n",
              "      <td>we have fears for their safety: victorian premier</td>\n",
              "    </tr>\n",
              "    <tr>\n",
              "      <th>1186016</th>\n",
              "      <td>20191231</td>\n",
              "      <td>when do the 20s start</td>\n",
              "    </tr>\n",
              "    <tr>\n",
              "      <th>1186017</th>\n",
              "      <td>20191231</td>\n",
              "      <td>yarraville shooting woman dead man critically ...</td>\n",
              "    </tr>\n",
              "  </tbody>\n",
              "</table>\n",
              "<p>1186018 rows × 2 columns</p>\n",
              "</div>"
            ],
            "text/plain": [
              "         publish_date                                      headline_text\n",
              "0            20030219  aba decides against community broadcasting lic...\n",
              "1            20030219     act fire witnesses must be aware of defamation\n",
              "2            20030219     a g calls for infrastructure protection summit\n",
              "3            20030219           air nz staff in aust strike for pay rise\n",
              "4            20030219      air nz strike to affect australian travellers\n",
              "...               ...                                                ...\n",
              "1186013      20191231  vision of flames approaching corryong in victoria\n",
              "1186014      20191231  wa police and government backflip on drug amne...\n",
              "1186015      20191231  we have fears for their safety: victorian premier\n",
              "1186016      20191231                              when do the 20s start\n",
              "1186017      20191231  yarraville shooting woman dead man critically ...\n",
              "\n",
              "[1186018 rows x 2 columns]"
            ]
          },
          "metadata": {
            "tags": []
          },
          "execution_count": 7
        }
      ]
    },
    {
      "cell_type": "markdown",
      "metadata": {
        "id": "QI9dFL1JeV5P",
        "colab_type": "text"
      },
      "source": [
        "# Data pre-processing"
      ]
    },
    {
      "cell_type": "code",
      "metadata": {
        "id": "ffnDKB4leZNV",
        "colab_type": "code",
        "colab": {}
      },
      "source": [
        "import numpy as np\n",
        "np.random.seed(59)\n",
        "\n",
        "import gensim\n",
        "from gensim.utils import simple_preprocess\n",
        "from gensim.parsing.preprocessing import STOPWORDS\n",
        "\n",
        "import nltk\n",
        "from nltk.stem.porter import *\n",
        "#nltk.download('stopwords')\n",
        "#nltk.download('wordnet')\n",
        "\n",
        "def preprocess(text):\n",
        "  stemmer = nltk.SnowballStemmer('english')\n",
        "  lemmatizer = nltk.WordNetLemmatizer()\n",
        "\n",
        "  processed_text = []\n",
        "  for token in gensim.utils.simple_preprocess(text):\n",
        "    if token not in gensim.parsing.preprocessing.STOPWORDS and len(token) > 3:\n",
        "      token = stemmer.stem(lemmatizer.lemmatize(token, pos='v'))\n",
        "      processed_text.append(token)\n",
        "  return processed_text\n",
        "\n",
        "processed = headlines_df.headline_text.map(preprocess)\n",
        "headlines_df['processed'] = processed"
      ],
      "execution_count": 0,
      "outputs": []
    },
    {
      "cell_type": "code",
      "metadata": {
        "id": "9mdEioJifLj_",
        "colab_type": "code",
        "colab": {
          "base_uri": "https://localhost:8080/",
          "height": 419
        },
        "outputId": "c7585943-8305-4985-c0fc-4d626d3769b2"
      },
      "source": [
        "# Displaying\n",
        "headlines_df"
      ],
      "execution_count": 11,
      "outputs": [
        {
          "output_type": "execute_result",
          "data": {
            "text/html": [
              "<div>\n",
              "<style scoped>\n",
              "    .dataframe tbody tr th:only-of-type {\n",
              "        vertical-align: middle;\n",
              "    }\n",
              "\n",
              "    .dataframe tbody tr th {\n",
              "        vertical-align: top;\n",
              "    }\n",
              "\n",
              "    .dataframe thead th {\n",
              "        text-align: right;\n",
              "    }\n",
              "</style>\n",
              "<table border=\"1\" class=\"dataframe\">\n",
              "  <thead>\n",
              "    <tr style=\"text-align: right;\">\n",
              "      <th></th>\n",
              "      <th>publish_date</th>\n",
              "      <th>headline_text</th>\n",
              "      <th>processed</th>\n",
              "    </tr>\n",
              "  </thead>\n",
              "  <tbody>\n",
              "    <tr>\n",
              "      <th>0</th>\n",
              "      <td>20030219</td>\n",
              "      <td>aba decides against community broadcasting lic...</td>\n",
              "      <td>[decid, communiti, broadcast, licenc]</td>\n",
              "    </tr>\n",
              "    <tr>\n",
              "      <th>1</th>\n",
              "      <td>20030219</td>\n",
              "      <td>act fire witnesses must be aware of defamation</td>\n",
              "      <td>[wit, awar, defam]</td>\n",
              "    </tr>\n",
              "    <tr>\n",
              "      <th>2</th>\n",
              "      <td>20030219</td>\n",
              "      <td>a g calls for infrastructure protection summit</td>\n",
              "      <td>[call, infrastructur, protect, summit]</td>\n",
              "    </tr>\n",
              "    <tr>\n",
              "      <th>3</th>\n",
              "      <td>20030219</td>\n",
              "      <td>air nz staff in aust strike for pay rise</td>\n",
              "      <td>[staff, aust, strike, rise]</td>\n",
              "    </tr>\n",
              "    <tr>\n",
              "      <th>4</th>\n",
              "      <td>20030219</td>\n",
              "      <td>air nz strike to affect australian travellers</td>\n",
              "      <td>[strike, affect, australian, travel]</td>\n",
              "    </tr>\n",
              "    <tr>\n",
              "      <th>...</th>\n",
              "      <td>...</td>\n",
              "      <td>...</td>\n",
              "      <td>...</td>\n",
              "    </tr>\n",
              "    <tr>\n",
              "      <th>1186013</th>\n",
              "      <td>20191231</td>\n",
              "      <td>vision of flames approaching corryong in victoria</td>\n",
              "      <td>[vision, flame, approach, corryong, victoria]</td>\n",
              "    </tr>\n",
              "    <tr>\n",
              "      <th>1186014</th>\n",
              "      <td>20191231</td>\n",
              "      <td>wa police and government backflip on drug amne...</td>\n",
              "      <td>[polic, govern, backflip, drug, amnesti, bin]</td>\n",
              "    </tr>\n",
              "    <tr>\n",
              "      <th>1186015</th>\n",
              "      <td>20191231</td>\n",
              "      <td>we have fears for their safety: victorian premier</td>\n",
              "      <td>[fear, safeti, victorian, premier]</td>\n",
              "    </tr>\n",
              "    <tr>\n",
              "      <th>1186016</th>\n",
              "      <td>20191231</td>\n",
              "      <td>when do the 20s start</td>\n",
              "      <td>[start]</td>\n",
              "    </tr>\n",
              "    <tr>\n",
              "      <th>1186017</th>\n",
              "      <td>20191231</td>\n",
              "      <td>yarraville shooting woman dead man critically ...</td>\n",
              "      <td>[yarravill, shoot, woman, dead, critic, injur]</td>\n",
              "    </tr>\n",
              "  </tbody>\n",
              "</table>\n",
              "<p>1186018 rows × 3 columns</p>\n",
              "</div>"
            ],
            "text/plain": [
              "         publish_date  ...                                       processed\n",
              "0            20030219  ...           [decid, communiti, broadcast, licenc]\n",
              "1            20030219  ...                              [wit, awar, defam]\n",
              "2            20030219  ...          [call, infrastructur, protect, summit]\n",
              "3            20030219  ...                     [staff, aust, strike, rise]\n",
              "4            20030219  ...            [strike, affect, australian, travel]\n",
              "...               ...  ...                                             ...\n",
              "1186013      20191231  ...   [vision, flame, approach, corryong, victoria]\n",
              "1186014      20191231  ...   [polic, govern, backflip, drug, amnesti, bin]\n",
              "1186015      20191231  ...              [fear, safeti, victorian, premier]\n",
              "1186016      20191231  ...                                         [start]\n",
              "1186017      20191231  ...  [yarravill, shoot, woman, dead, critic, injur]\n",
              "\n",
              "[1186018 rows x 3 columns]"
            ]
          },
          "metadata": {
            "tags": []
          },
          "execution_count": 11
        }
      ]
    },
    {
      "cell_type": "markdown",
      "metadata": {
        "id": "ANnKySTFgXDd",
        "colab_type": "text"
      },
      "source": [
        "# Features extraction"
      ]
    },
    {
      "cell_type": "markdown",
      "metadata": {
        "id": "vYrAzZ6pgblt",
        "colab_type": "text"
      },
      "source": [
        "## Generate Bag of Words"
      ]
    },
    {
      "cell_type": "code",
      "metadata": {
        "id": "MClXu4zrgfc6",
        "colab_type": "code",
        "colab": {}
      },
      "source": [
        "dictionary = gensim.corpora.Dictionary(processed)\n",
        "dictionary.filter_extremes(no_below=15, no_above=0.5, keep_n=100000)\n",
        "bow_corpus = [dictionary.doc2bow(doc) for doc in processed]"
      ],
      "execution_count": 0,
      "outputs": []
    },
    {
      "cell_type": "code",
      "metadata": {
        "id": "bVcME6tggnvV",
        "colab_type": "code",
        "colab": {
          "base_uri": "https://localhost:8080/",
          "height": 136
        },
        "outputId": "d64e6cf1-ddae-48ab-bed6-bd9205d7901b"
      },
      "source": [
        "# Displaying\n",
        "doc_sample = bow_corpus[4310]\n",
        "for i in range(len(doc_sample)):\n",
        "  print(\"Word {} \\\"{}\\\" appears {} time(s)\".format(\n",
        "    doc_sample[i][0],\n",
        "    dictionary[doc_sample[i][0]],\n",
        "    doc_sample[i][1])\n",
        "  )"
      ],
      "execution_count": 14,
      "outputs": [
        {
          "output_type": "stream",
          "text": [
            "Word 162 \"govt\" appears 1 time(s)\n",
            "Word 240 \"group\" appears 1 time(s)\n",
            "Word 292 \"vote\" appears 1 time(s)\n",
            "Word 589 \"local\" appears 1 time(s)\n",
            "Word 838 \"want\" appears 1 time(s)\n",
            "Word 3567 \"compulsori\" appears 1 time(s)\n",
            "Word 3568 \"ratepay\" appears 1 time(s)\n"
          ],
          "name": "stdout"
        }
      ]
    },
    {
      "cell_type": "markdown",
      "metadata": {
        "id": "mFx6tMRFg2ec",
        "colab_type": "text"
      },
      "source": [
        "## Generate TF-IF"
      ]
    },
    {
      "cell_type": "code",
      "metadata": {
        "id": "nMR74ADChBEV",
        "colab_type": "code",
        "colab": {}
      },
      "source": [
        "from gensim import corpora, models\n",
        "\n",
        "tfidf = models.TfidfModel(bow_corpus)\n",
        "tfidf_corpus = tfidf[bow_corpus]"
      ],
      "execution_count": 0,
      "outputs": []
    },
    {
      "cell_type": "code",
      "metadata": {
        "id": "fSUxmPeehNp8",
        "colab_type": "code",
        "colab": {
          "base_uri": "https://localhost:8080/",
          "height": 136
        },
        "outputId": "05d3d0a8-6b19-4697-e42f-1294c07f243d"
      },
      "source": [
        "# Displaying\n",
        "doc_sample = tfidf_corpus[4310]\n",
        "for i in range(len(doc_sample)):\n",
        "    print(\"Word {} \\\"{}\\\" has weight {}\".format(\n",
        "        doc_sample[i][0],\n",
        "        dictionary[doc_sample[i][0]],\n",
        "        doc_sample[i][1])\n",
        "    )"
      ],
      "execution_count": 16,
      "outputs": [
        {
          "output_type": "stream",
          "text": [
            "Word 162 \"govt\" has weight 0.25617525269671065\n",
            "Word 240 \"group\" has weight 0.3011111395538523\n",
            "Word 292 \"vote\" has weight 0.33416888830557095\n",
            "Word 589 \"local\" has weight 0.33377677352466983\n",
            "Word 838 \"want\" has weight 0.3121925622107832\n",
            "Word 3567 \"compulsori\" has weight 0.5158075532653446\n",
            "Word 3568 \"ratepay\" has weight 0.5070590825348879\n"
          ],
          "name": "stdout"
        }
      ]
    },
    {
      "cell_type": "markdown",
      "metadata": {
        "id": "tEUUzOHHhWbt",
        "colab_type": "text"
      },
      "source": [
        "# Models training"
      ]
    },
    {
      "cell_type": "markdown",
      "metadata": {
        "id": "jsw6UN4nhhDT",
        "colab_type": "text"
      },
      "source": [
        "## With Bag of Words"
      ]
    },
    {
      "cell_type": "code",
      "metadata": {
        "id": "PV9sm5CXheIk",
        "colab_type": "code",
        "colab": {}
      },
      "source": [
        "lda_model_bow = gensim.models.LdaMulticore(\n",
        "    bow_corpus,\n",
        "    num_topics=10,\n",
        "    id2word=dictionary,\n",
        "    passes=2,\n",
        "    workers=2\n",
        ")"
      ],
      "execution_count": 0,
      "outputs": []
    },
    {
      "cell_type": "code",
      "metadata": {
        "id": "yR8Ueko7hrTE",
        "colab_type": "code",
        "colab": {
          "base_uri": "https://localhost:8080/",
          "height": 357
        },
        "outputId": "c336fe3b-1e95-4734-ee52-b4f202463bf0"
      },
      "source": [
        "# Displaying\n",
        "for idx, topic in lda_model_bow.print_topics(-1):\n",
        "    print('Topic {}: {}\\n'.format(idx, topic))"
      ],
      "execution_count": 18,
      "outputs": [
        {
          "output_type": "stream",
          "text": [
            "Topic 0: 0.026*\"govern\" + 0.020*\"nation\" + 0.020*\"south\" + 0.017*\"canberra\" + 0.017*\"north\" + 0.015*\"tasmania\" + 0.013*\"china\" + 0.012*\"lose\" + 0.011*\"west\" + 0.011*\"dead\"\n",
            "\n",
            "Topic 1: 0.020*\"news\" + 0.016*\"water\" + 0.015*\"hospit\" + 0.015*\"warn\" + 0.013*\"power\" + 0.013*\"plan\" + 0.010*\"farmer\" + 0.010*\"scott\" + 0.009*\"council\" + 0.009*\"resid\"\n",
            "\n",
            "Topic 2: 0.029*\"court\" + 0.019*\"face\" + 0.016*\"accus\" + 0.015*\"peopl\" + 0.013*\"child\" + 0.013*\"speak\" + 0.013*\"sentenc\" + 0.013*\"jail\" + 0.013*\"drug\" + 0.012*\"abus\"\n",
            "\n",
            "Topic 3: 0.018*\"elect\" + 0.013*\"time\" + 0.011*\"game\" + 0.011*\"say\" + 0.009*\"win\" + 0.009*\"make\" + 0.008*\"video\" + 0.008*\"open\" + 0.008*\"meet\" + 0.008*\"australian\"\n",
            "\n",
            "Topic 4: 0.033*\"trump\" + 0.017*\"chang\" + 0.013*\"health\" + 0.011*\"rural\" + 0.011*\"say\" + 0.011*\"countri\" + 0.011*\"busi\" + 0.011*\"fund\" + 0.011*\"indigen\" + 0.010*\"work\"\n",
            "\n",
            "Topic 5: 0.048*\"polic\" + 0.029*\"sydney\" + 0.023*\"death\" + 0.021*\"charg\" + 0.019*\"donald\" + 0.017*\"murder\" + 0.016*\"shoot\" + 0.016*\"woman\" + 0.015*\"perth\" + 0.014*\"protest\"\n",
            "\n",
            "Topic 6: 0.026*\"queensland\" + 0.022*\"market\" + 0.022*\"crash\" + 0.018*\"die\" + 0.018*\"live\" + 0.013*\"bank\" + 0.012*\"australian\" + 0.012*\"fall\" + 0.011*\"road\" + 0.011*\"train\"\n",
            "\n",
            "Topic 7: 0.032*\"attack\" + 0.022*\"kill\" + 0.017*\"interview\" + 0.016*\"street\" + 0.015*\"drum\" + 0.015*\"releas\" + 0.014*\"prison\" + 0.013*\"wall\" + 0.011*\"sexual\" + 0.010*\"girl\"\n",
            "\n",
            "Topic 8: 0.019*\"feder\" + 0.018*\"final\" + 0.015*\"fight\" + 0.015*\"life\" + 0.014*\"break\" + 0.012*\"beat\" + 0.011*\"citi\" + 0.011*\"john\" + 0.010*\"leagu\" + 0.010*\"care\"\n",
            "\n",
            "Topic 9: 0.061*\"australia\" + 0.022*\"home\" + 0.016*\"miss\" + 0.015*\"royal\" + 0.014*\"world\" + 0.013*\"price\" + 0.013*\"women\" + 0.012*\"commiss\" + 0.010*\"search\" + 0.009*\"cricket\"\n",
            "\n"
          ],
          "name": "stdout"
        }
      ]
    },
    {
      "cell_type": "markdown",
      "metadata": {
        "id": "TnHC2nxchtsc",
        "colab_type": "text"
      },
      "source": [
        "## With TF-IDF"
      ]
    },
    {
      "cell_type": "code",
      "metadata": {
        "id": "cBkSWGHkhv-7",
        "colab_type": "code",
        "colab": {}
      },
      "source": [
        "lda_model_tfidf = gensim.models.LdaMulticore(\n",
        "    tfidf_corpus,\n",
        "    num_topics=10,\n",
        "    id2word=dictionary,\n",
        "    passes=2,\n",
        "    workers=2\n",
        ")"
      ],
      "execution_count": 0,
      "outputs": []
    },
    {
      "cell_type": "code",
      "metadata": {
        "id": "EHa__-vNh2M7",
        "colab_type": "code",
        "colab": {
          "base_uri": "https://localhost:8080/",
          "height": 377
        },
        "outputId": "3e6d82eb-5aab-4691-89c3-c2ebe59024fd"
      },
      "source": [
        "# Displaying\n",
        "for idx, topic in lda_model_tfidf.print_topics(-1):\n",
        "    print('Topic {}: {}\\n'.format(idx, topic))"
      ],
      "execution_count": 22,
      "outputs": [
        {
          "output_type": "stream",
          "text": [
            "Topic 0: 0.015*\"murder\" + 0.014*\"charg\" + 0.014*\"polic\" + 0.012*\"alleg\" + 0.011*\"woman\" + 0.010*\"court\" + 0.009*\"jail\" + 0.009*\"sentenc\" + 0.008*\"morrison\" + 0.008*\"child\"\n",
            "\n",
            "Topic 1: 0.015*\"drum\" + 0.015*\"countri\" + 0.013*\"royal\" + 0.011*\"commiss\" + 0.010*\"peopl\" + 0.010*\"hour\" + 0.007*\"weather\" + 0.007*\"peter\" + 0.006*\"pacif\" + 0.006*\"footag\"\n",
            "\n",
            "Topic 2: 0.024*\"news\" + 0.018*\"queensland\" + 0.009*\"john\" + 0.008*\"leagu\" + 0.007*\"david\" + 0.006*\"histori\" + 0.006*\"nation\" + 0.006*\"kohler\" + 0.006*\"ash\" + 0.005*\"univers\"\n",
            "\n",
            "Topic 3: 0.011*\"stori\" + 0.008*\"market\" + 0.008*\"price\" + 0.007*\"australian\" + 0.006*\"million\" + 0.006*\"share\" + 0.005*\"dollar\" + 0.005*\"brief\" + 0.005*\"tasmanian\" + 0.005*\"andrew\"\n",
            "\n",
            "Topic 4: 0.015*\"donald\" + 0.012*\"elect\" + 0.011*\"govern\" + 0.008*\"feder\" + 0.007*\"liber\" + 0.007*\"say\" + 0.007*\"labor\" + 0.006*\"thursday\" + 0.006*\"korea\" + 0.006*\"street\"\n",
            "\n",
            "Topic 5: 0.012*\"rural\" + 0.010*\"climat\" + 0.009*\"michael\" + 0.008*\"financ\" + 0.007*\"hong\" + 0.007*\"kong\" + 0.007*\"video\" + 0.006*\"chang\" + 0.006*\"shorten\" + 0.005*\"territori\"\n",
            "\n",
            "Topic 6: 0.015*\"crash\" + 0.013*\"kill\" + 0.011*\"dead\" + 0.007*\"bushfir\" + 0.006*\"polic\" + 0.006*\"injur\" + 0.006*\"attack\" + 0.006*\"truck\" + 0.006*\"die\" + 0.005*\"bomb\"\n",
            "\n",
            "Topic 7: 0.011*\"interview\" + 0.011*\"turnbul\" + 0.011*\"tuesday\" + 0.010*\"friday\" + 0.009*\"scott\" + 0.008*\"insid\" + 0.008*\"alan\" + 0.008*\"juli\" + 0.008*\"mark\" + 0.008*\"age\"\n",
            "\n",
            "Topic 8: 0.035*\"trump\" + 0.010*\"australia\" + 0.010*\"final\" + 0.009*\"world\" + 0.006*\"beat\" + 0.006*\"game\" + 0.006*\"america\" + 0.006*\"malcolm\" + 0.006*\"open\" + 0.006*\"mother\"\n",
            "\n",
            "Topic 9: 0.010*\"monday\" + 0.009*\"wednesday\" + 0.008*\"christma\" + 0.007*\"explain\" + 0.007*\"cricket\" + 0.007*\"violenc\" + 0.007*\"drought\" + 0.007*\"sport\" + 0.006*\"live\" + 0.006*\"quiz\"\n",
            "\n"
          ],
          "name": "stdout"
        }
      ]
    }
  ]
}